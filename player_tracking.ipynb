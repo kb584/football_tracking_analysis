{
 "cells": [
  {
   "cell_type": "code",
   "execution_count": 8,
   "id": "1f61cb91",
   "metadata": {},
   "outputs": [],
   "source": [
    "import cv2\n",
    "Trdict={#'csrt':cv2.TrackerCSRT_create,  #outcommented lines not working with latest opencv\n",
    "        #'kcf':cv2.TrackerKCF_create, \n",
    "        #'boosting':cv2.TrackerBoosting_create,\n",
    "        'mil':cv2.TrackerMIL_create,\n",
    "        'tld':cv2.TrackerMIL_create,\n",
    "        #'medianflow':cv2.TrackerMedianFlow_create,\n",
    "        #'mosse':cv2.TrackerMOSSE_create\n",
    "       }"
   ]
  },
  {
   "cell_type": "code",
   "execution_count": 9,
   "id": "a204ee95",
   "metadata": {},
   "outputs": [],
   "source": [
    "#tracker=cv2.TrackerMIL_create\n",
    "tracker = Trdict['mil']()"
   ]
  },
  {
   "cell_type": "code",
   "execution_count": 10,
   "id": "f5b2ac2b",
   "metadata": {},
   "outputs": [
    {
     "name": "stdout",
     "output_type": "stream",
     "text": [
      "Moviepy - Running:\n",
      ">>> \"+ \" \".join(cmd)\n",
      "Moviepy - Command successful\n"
     ]
    }
   ],
   "source": [
    "from moviepy.video.io.ffmpeg_tools import ffmpeg_extract_subclip\n",
    "\n",
    "videofile='...\\Messi.mp4'\n",
    "start_seconds = 201\n",
    "end_seconds = 205\n",
    "\n",
    "#extract the part that you want to use \n",
    "ffmpeg_extract_subclip(videofile,start_seconds, end_seconds , targetname=\"only_messi.mp4\")\n",
    "v=cv2.VideoCapture(r'only_messi.mp4')\n",
    "\n",
    "# Create a VideoWriter object so we can save the video output\n",
    "fourcc = cv2.VideoWriter_fourcc('M','P','4','v')\n",
    "#fourcc = -1\n",
    "fps = 10\n",
    "file_size = (640,360)\n",
    "result = cv2.VideoWriter('...\\Messi_tracking.mp4',fourcc, fps, file_size, True)"
   ]
  },
  {
   "cell_type": "code",
   "execution_count": 11,
   "id": "62e85cb5",
   "metadata": {},
   "outputs": [],
   "source": [
    "#read video, read frame by frame and draw bounding box\n",
    "ret, frame=v.read()\n",
    "cv2.imshow('only_messi',frame)\n",
    "bb = cv2.selectROI('only_messi',frame)\n",
    "tracker.init(frame,bb)"
   ]
  },
  {
   "cell_type": "code",
   "execution_count": 12,
   "id": "a6679b31",
   "metadata": {},
   "outputs": [],
   "source": [
    "#capture one frame at a time and update the location of the bounding box\n",
    "while True:\n",
    "    ret, frame = v.read()\n",
    "    if not ret:\n",
    "        break\n",
    "    (success,box)=tracker.update(frame)\n",
    "    if success:\n",
    "        (x,y,w,h)=[int(a) for a in box]      \n",
    "        cv2.rectangle(frame,(x,y),(x+w,y+h),(255,0,0),2)                 \n",
    "    result.write(frame)\n",
    "    cv2.imshow('only_messi',frame)\n",
    "    key = cv2.waitKey(5) & 0xFF     \n",
    "    if key == ord('q'):\n",
    "        break\n",
    "v.release()\n",
    "result.release()\n",
    "cv2.destroyAllWindows()                      \n",
    "                      \n",
    "                      \n",
    "                  "
   ]
  },
  {
   "cell_type": "code",
   "execution_count": 4,
   "id": "c1190bdb",
   "metadata": {},
   "outputs": [
    {
     "data": {
      "text/plain": [
       "640.0"
      ]
     },
     "execution_count": 4,
     "metadata": {},
     "output_type": "execute_result"
    }
   ],
   "source": [
    "#output frame width\n",
    "v.get(3)"
   ]
  },
  {
   "cell_type": "code",
   "execution_count": 5,
   "id": "c216c557",
   "metadata": {},
   "outputs": [
    {
     "data": {
      "text/plain": [
       "360.0"
      ]
     },
     "execution_count": 5,
     "metadata": {},
     "output_type": "execute_result"
    }
   ],
   "source": [
    "#output frame height\n",
    "v.get(4)"
   ]
  },
  {
   "cell_type": "code",
   "execution_count": null,
   "id": "6bcae766",
   "metadata": {},
   "outputs": [],
   "source": []
  }
 ],
 "metadata": {
  "kernelspec": {
   "display_name": "Python 3",
   "language": "python",
   "name": "python3"
  },
  "language_info": {
   "codemirror_mode": {
    "name": "ipython",
    "version": 3
   },
   "file_extension": ".py",
   "mimetype": "text/x-python",
   "name": "python",
   "nbconvert_exporter": "python",
   "pygments_lexer": "ipython3",
   "version": "3.9.5"
  }
 },
 "nbformat": 4,
 "nbformat_minor": 5
}
