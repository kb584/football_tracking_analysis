{
 "cells": [
  {
   "cell_type": "code",
   "execution_count": 43,
   "id": "537706aa",
   "metadata": {},
   "outputs": [],
   "source": [
    "import pandas as pd\n",
    "import numpy as np\n",
    "import json\n",
    "import matplotlib.pyplot as plt\n",
    "from mplsoccer.pitch import Pitch,VerticalPitch\n",
    "import statsmodels.api as sm\n",
    "import statsmodels.formula.api as smf\n",
    "\n",
    "#load german league\n",
    "with open('...\\events_Germany.json') as f:\n",
    "    data = json.load(f)\n",
    "    \n",
    "#Create a data set of shots.\n",
    "train = pd.DataFrame(data)\n",
    "shots=train[train['subEventName']=='Shot']\n",
    "shots_model=pd.DataFrame(columns=['Goal','X','Y'])\n"
   ]
  },
  {
   "cell_type": "code",
   "execution_count": 44,
   "id": "dfec2875",
   "metadata": {},
   "outputs": [
    {
     "data": {
      "text/html": [
       "<div>\n",
       "<style scoped>\n",
       "    .dataframe tbody tr th:only-of-type {\n",
       "        vertical-align: middle;\n",
       "    }\n",
       "\n",
       "    .dataframe tbody tr th {\n",
       "        vertical-align: top;\n",
       "    }\n",
       "\n",
       "    .dataframe thead th {\n",
       "        text-align: right;\n",
       "    }\n",
       "</style>\n",
       "<table border=\"1\" class=\"dataframe\">\n",
       "  <thead>\n",
       "    <tr style=\"text-align: right;\">\n",
       "      <th></th>\n",
       "      <th>eventId</th>\n",
       "      <th>subEventName</th>\n",
       "      <th>tags</th>\n",
       "      <th>playerId</th>\n",
       "      <th>positions</th>\n",
       "      <th>matchId</th>\n",
       "      <th>eventName</th>\n",
       "      <th>teamId</th>\n",
       "      <th>matchPeriod</th>\n",
       "      <th>eventSec</th>\n",
       "      <th>subEventId</th>\n",
       "      <th>id</th>\n",
       "    </tr>\n",
       "  </thead>\n",
       "  <tbody>\n",
       "    <tr>\n",
       "      <th>0</th>\n",
       "      <td>8</td>\n",
       "      <td>Simple pass</td>\n",
       "      <td>[{'id': 1801}]</td>\n",
       "      <td>15231</td>\n",
       "      <td>[{'y': 50, 'x': 50}, {'y': 48, 'x': 50}]</td>\n",
       "      <td>2516739</td>\n",
       "      <td>Pass</td>\n",
       "      <td>2446</td>\n",
       "      <td>1H</td>\n",
       "      <td>2.409746</td>\n",
       "      <td>85</td>\n",
       "      <td>179896442</td>\n",
       "    </tr>\n",
       "    <tr>\n",
       "      <th>1</th>\n",
       "      <td>8</td>\n",
       "      <td>Simple pass</td>\n",
       "      <td>[{'id': 1801}]</td>\n",
       "      <td>14786</td>\n",
       "      <td>[{'y': 48, 'x': 50}, {'y': 22, 'x': 22}]</td>\n",
       "      <td>2516739</td>\n",
       "      <td>Pass</td>\n",
       "      <td>2446</td>\n",
       "      <td>1H</td>\n",
       "      <td>2.506082</td>\n",
       "      <td>85</td>\n",
       "      <td>179896443</td>\n",
       "    </tr>\n",
       "    <tr>\n",
       "      <th>2</th>\n",
       "      <td>8</td>\n",
       "      <td>Simple pass</td>\n",
       "      <td>[{'id': 1801}]</td>\n",
       "      <td>14803</td>\n",
       "      <td>[{'y': 22, 'x': 22}, {'y': 46, 'x': 6}]</td>\n",
       "      <td>2516739</td>\n",
       "      <td>Pass</td>\n",
       "      <td>2446</td>\n",
       "      <td>1H</td>\n",
       "      <td>6.946706</td>\n",
       "      <td>85</td>\n",
       "      <td>179896444</td>\n",
       "    </tr>\n",
       "    <tr>\n",
       "      <th>3</th>\n",
       "      <td>8</td>\n",
       "      <td>Simple pass</td>\n",
       "      <td>[{'id': 1801}]</td>\n",
       "      <td>14768</td>\n",
       "      <td>[{'y': 46, 'x': 6}, {'y': 10, 'x': 20}]</td>\n",
       "      <td>2516739</td>\n",
       "      <td>Pass</td>\n",
       "      <td>2446</td>\n",
       "      <td>1H</td>\n",
       "      <td>10.786491</td>\n",
       "      <td>85</td>\n",
       "      <td>179896445</td>\n",
       "    </tr>\n",
       "    <tr>\n",
       "      <th>4</th>\n",
       "      <td>8</td>\n",
       "      <td>Simple pass</td>\n",
       "      <td>[{'id': 1801}]</td>\n",
       "      <td>14803</td>\n",
       "      <td>[{'y': 10, 'x': 20}, {'y': 4, 'x': 27}]</td>\n",
       "      <td>2516739</td>\n",
       "      <td>Pass</td>\n",
       "      <td>2446</td>\n",
       "      <td>1H</td>\n",
       "      <td>12.684514</td>\n",
       "      <td>85</td>\n",
       "      <td>179896446</td>\n",
       "    </tr>\n",
       "    <tr>\n",
       "      <th>...</th>\n",
       "      <td>...</td>\n",
       "      <td>...</td>\n",
       "      <td>...</td>\n",
       "      <td>...</td>\n",
       "      <td>...</td>\n",
       "      <td>...</td>\n",
       "      <td>...</td>\n",
       "      <td>...</td>\n",
       "      <td>...</td>\n",
       "      <td>...</td>\n",
       "      <td>...</td>\n",
       "      <td>...</td>\n",
       "    </tr>\n",
       "    <tr>\n",
       "      <th>519402</th>\n",
       "      <td>1</td>\n",
       "      <td>Ground attacking duel</td>\n",
       "      <td>[{'id': 702}, {'id': 1801}]</td>\n",
       "      <td>15317</td>\n",
       "      <td>[{'y': 9, 'x': 91}, {'y': 6, 'x': 90}]</td>\n",
       "      <td>2517044</td>\n",
       "      <td>Duel</td>\n",
       "      <td>2463</td>\n",
       "      <td>2H</td>\n",
       "      <td>2825.097992</td>\n",
       "      <td>11</td>\n",
       "      <td>251206867</td>\n",
       "    </tr>\n",
       "    <tr>\n",
       "      <th>519403</th>\n",
       "      <td>1</td>\n",
       "      <td>Ground defending duel</td>\n",
       "      <td>[{'id': 703}, {'id': 1801}]</td>\n",
       "      <td>14804</td>\n",
       "      <td>[{'y': 94, 'x': 10}, {'y': 95, 'x': 0}]</td>\n",
       "      <td>2517044</td>\n",
       "      <td>Duel</td>\n",
       "      <td>2451</td>\n",
       "      <td>2H</td>\n",
       "      <td>2825.519102</td>\n",
       "      <td>12</td>\n",
       "      <td>251206788</td>\n",
       "    </tr>\n",
       "    <tr>\n",
       "      <th>519404</th>\n",
       "      <td>1</td>\n",
       "      <td>Ground attacking duel</td>\n",
       "      <td>[{'id': 701}, {'id': 1802}]</td>\n",
       "      <td>15317</td>\n",
       "      <td>[{'y': 6, 'x': 90}, {'y': 5, 'x': 100}]</td>\n",
       "      <td>2517044</td>\n",
       "      <td>Duel</td>\n",
       "      <td>2463</td>\n",
       "      <td>2H</td>\n",
       "      <td>2826.053788</td>\n",
       "      <td>11</td>\n",
       "      <td>251206868</td>\n",
       "    </tr>\n",
       "    <tr>\n",
       "      <th>519405</th>\n",
       "      <td>8</td>\n",
       "      <td>Simple pass</td>\n",
       "      <td>[{'id': 1802}]</td>\n",
       "      <td>14804</td>\n",
       "      <td>[{'y': 95, 'x': 0}, {'y': 93, 'x': 5}]</td>\n",
       "      <td>2517044</td>\n",
       "      <td>Pass</td>\n",
       "      <td>2451</td>\n",
       "      <td>2H</td>\n",
       "      <td>2828.080925</td>\n",
       "      <td>85</td>\n",
       "      <td>251206790</td>\n",
       "    </tr>\n",
       "    <tr>\n",
       "      <th>519406</th>\n",
       "      <td>7</td>\n",
       "      <td>Touch</td>\n",
       "      <td>[{'id': 1401}]</td>\n",
       "      <td>15317</td>\n",
       "      <td>[{'y': 7, 'x': 95}, {'y': 100, 'x': 100}]</td>\n",
       "      <td>2517044</td>\n",
       "      <td>Others on the ball</td>\n",
       "      <td>2463</td>\n",
       "      <td>2H</td>\n",
       "      <td>2829.509819</td>\n",
       "      <td>72</td>\n",
       "      <td>251206869</td>\n",
       "    </tr>\n",
       "  </tbody>\n",
       "</table>\n",
       "<p>519407 rows × 12 columns</p>\n",
       "</div>"
      ],
      "text/plain": [
       "        eventId           subEventName                         tags  playerId  \\\n",
       "0             8            Simple pass               [{'id': 1801}]     15231   \n",
       "1             8            Simple pass               [{'id': 1801}]     14786   \n",
       "2             8            Simple pass               [{'id': 1801}]     14803   \n",
       "3             8            Simple pass               [{'id': 1801}]     14768   \n",
       "4             8            Simple pass               [{'id': 1801}]     14803   \n",
       "...         ...                    ...                          ...       ...   \n",
       "519402        1  Ground attacking duel  [{'id': 702}, {'id': 1801}]     15317   \n",
       "519403        1  Ground defending duel  [{'id': 703}, {'id': 1801}]     14804   \n",
       "519404        1  Ground attacking duel  [{'id': 701}, {'id': 1802}]     15317   \n",
       "519405        8            Simple pass               [{'id': 1802}]     14804   \n",
       "519406        7                  Touch               [{'id': 1401}]     15317   \n",
       "\n",
       "                                        positions  matchId  \\\n",
       "0        [{'y': 50, 'x': 50}, {'y': 48, 'x': 50}]  2516739   \n",
       "1        [{'y': 48, 'x': 50}, {'y': 22, 'x': 22}]  2516739   \n",
       "2         [{'y': 22, 'x': 22}, {'y': 46, 'x': 6}]  2516739   \n",
       "3         [{'y': 46, 'x': 6}, {'y': 10, 'x': 20}]  2516739   \n",
       "4         [{'y': 10, 'x': 20}, {'y': 4, 'x': 27}]  2516739   \n",
       "...                                           ...      ...   \n",
       "519402     [{'y': 9, 'x': 91}, {'y': 6, 'x': 90}]  2517044   \n",
       "519403    [{'y': 94, 'x': 10}, {'y': 95, 'x': 0}]  2517044   \n",
       "519404    [{'y': 6, 'x': 90}, {'y': 5, 'x': 100}]  2517044   \n",
       "519405     [{'y': 95, 'x': 0}, {'y': 93, 'x': 5}]  2517044   \n",
       "519406  [{'y': 7, 'x': 95}, {'y': 100, 'x': 100}]  2517044   \n",
       "\n",
       "                 eventName  teamId matchPeriod     eventSec subEventId  \\\n",
       "0                     Pass    2446          1H     2.409746         85   \n",
       "1                     Pass    2446          1H     2.506082         85   \n",
       "2                     Pass    2446          1H     6.946706         85   \n",
       "3                     Pass    2446          1H    10.786491         85   \n",
       "4                     Pass    2446          1H    12.684514         85   \n",
       "...                    ...     ...         ...          ...        ...   \n",
       "519402                Duel    2463          2H  2825.097992         11   \n",
       "519403                Duel    2451          2H  2825.519102         12   \n",
       "519404                Duel    2463          2H  2826.053788         11   \n",
       "519405                Pass    2451          2H  2828.080925         85   \n",
       "519406  Others on the ball    2463          2H  2829.509819         72   \n",
       "\n",
       "               id  \n",
       "0       179896442  \n",
       "1       179896443  \n",
       "2       179896444  \n",
       "3       179896445  \n",
       "4       179896446  \n",
       "...           ...  \n",
       "519402  251206867  \n",
       "519403  251206788  \n",
       "519404  251206868  \n",
       "519405  251206790  \n",
       "519406  251206869  \n",
       "\n",
       "[519407 rows x 12 columns]"
      ]
     },
     "execution_count": 44,
     "metadata": {},
     "output_type": "execute_result"
    }
   ],
   "source": [
    "train"
   ]
  },
  {
   "cell_type": "code",
   "execution_count": 45,
   "id": "c02380ad",
   "metadata": {},
   "outputs": [],
   "source": [
    "#Calculate X, Y co-ordinates\n",
    "#Distance from a line in the centre\n",
    "#Shot angle.\n",
    "for i,shot in shots.iterrows():\n",
    "    \n",
    "    header=0\n",
    "    for shottags in shot['tags']:\n",
    "        if shottags['id']==403:\n",
    "            header=1\n",
    "    #Only include non-headers        \n",
    "    if not(header):        \n",
    "        shots_model.at[i,'X']=100-shot['positions'][0]['x']\n",
    "        shots_model.at[i,'Y']=shot['positions'][0]['y']\n",
    "        shots_model.at[i,'C']=abs(shot['positions'][0]['y']-50)\n",
    "    \n",
    "        #Distance in metres and shot angle in radians.\n",
    "        x=shots_model.at[i,'X']*105/100\n",
    "        y=shots_model.at[i,'C']*65/100\n",
    "        shots_model.at[i,'Distance']=np.sqrt(x**2 + y**2)\n",
    "        a = np.arctan(7.32 *x /(x**2 + y**2 - (7.32/2)**2))\n",
    "        if a<0:\n",
    "            a=np.pi+a\n",
    "        shots_model.at[i,'Angle'] =a\n",
    "    \n",
    "        #Whether it is a goal\n",
    "        shots_model.at[i,'Goal']=0\n",
    "        for shottags in shot['tags']:\n",
    "                #Tags contain that its a goal\n",
    "                if shottags['id']==101:\n",
    "                    shots_model.at[i,'Goal']=1"
   ]
  },
  {
   "cell_type": "code",
   "execution_count": 46,
   "id": "54e7ddc1",
   "metadata": {},
   "outputs": [],
   "source": [
    "#Two dimensional histogram\n",
    "H_Shot=np.histogram2d(shots_model['X'], shots_model['Y'],bins=50,range=[[0, 100],[0, 100]])\n",
    "goals_only=shots_model[shots_model['Goal']==1]\n",
    "H_Goal=np.histogram2d(goals_only['X'], goals_only['Y'],bins=50,range=[[0, 100],[0, 100]])"
   ]
  },
  {
   "cell_type": "code",
   "execution_count": 47,
   "id": "a4b92dbe",
   "metadata": {},
   "outputs": [
    {
     "data": {
      "image/png": "[encoded data removed]",
      "text/plain": [
       "<Figure size 432x288 with 2 Axes>"
      ]
     },
     "metadata": {
      "needs_background": "light"
     },
     "output_type": "display_data"
    }
   ],
   "source": [
    "#Plot the number of shots from different points\n",
    "pitch =  VerticalPitch(pitch_type = 'statsbomb', tight_layout = True,\n",
    "              pitch_color = 'white', line_color = '#c7d5cc', figsize = (16,11))\n",
    "fig, ax = pitch.draw()\n",
    "\n",
    "pos=ax.imshow(H_Shot[0], extent=[-1,66,104,-1], aspect='auto',cmap=plt.cm.Reds)\n",
    "fig.colorbar(pos, ax=ax)\n",
    "ax.set_title('Number of shots')\n",
    "plt.xlim((-1,66))\n",
    "plt.ylim((-3,35))\n",
    "plt.tight_layout()\n",
    "plt.gca().set_aspect('equal', adjustable='box')"
   ]
  },
  {
   "cell_type": "code",
   "execution_count": 48,
   "id": "8fdd3225",
   "metadata": {},
   "outputs": [
    {
     "data": {
      "image/png": "[encoded data removed]",
      "text/plain": [
       "<Figure size 432x288 with 2 Axes>"
      ]
     },
     "metadata": {
      "needs_background": "light"
     },
     "output_type": "display_data"
    }
   ],
   "source": [
    "#Plot the number of GOALS from different points\n",
    "pitch = VerticalPitch(pitch_type = 'statsbomb', tight_layout = True,\n",
    "              pitch_color = 'white', line_color = '#c7d5cc', figsize = (16, 11))\n",
    "fig, ax = pitch.draw()\n",
    "\n",
    "pos=ax.imshow(H_Goal[0], extent=[-1,66,104,-1], aspect='auto',cmap=plt.cm.Reds)\n",
    "fig.colorbar(pos, ax=ax)\n",
    "ax.set_title('Number of goals')\n",
    "plt.xlim((-1,66))\n",
    "plt.ylim((-3,35))\n",
    "plt.tight_layout()\n",
    "plt.gca().set_aspect('equal', adjustable='box')"
   ]
  },
  {
   "cell_type": "code",
   "execution_count": 49,
   "id": "8e16f218",
   "metadata": {},
   "outputs": [
    {
     "name": "stderr",
     "output_type": "stream",
     "text": [
      "<ipython-input-49-e29928364e89>:6: RuntimeWarning: invalid value encountered in true_divide\n",
      "  pos=ax.imshow(H_Goal[0]/H_Shot[0], extent=[-1,66,104,-1], aspect='auto',cmap=plt.cm.Reds,vmin=0, vmax=0.5)\n"
     ]
    },
    {
     "data": {
      "image/png": "[encoded data removed]",
      "text/plain": [
       "<Figure size 432x288 with 2 Axes>"
      ]
     },
     "metadata": {
      "needs_background": "light"
     },
     "output_type": "display_data"
    }
   ],
   "source": [
    "#Plot the probability of scoring from different points\n",
    "pitch = VerticalPitch(pitch_type = 'statsbomb', tight_layout = True,\n",
    "              pitch_color = 'white', line_color = '#c7d5cc', figsize = (16, 11))\n",
    "fig, ax = pitch.draw()\n",
    "\n",
    "pos=ax.imshow(H_Goal[0]/H_Shot[0], extent=[-1,66,104,-1], aspect='auto',cmap=plt.cm.Reds,vmin=0, vmax=0.5)\n",
    "fig.colorbar(pos, ax=ax)\n",
    "ax.set_title('Proportion of shots resulting in a goal')\n",
    "plt.xlim((-1,66))\n",
    "plt.ylim((-3,35))\n",
    "plt.tight_layout()\n",
    "plt.gca().set_aspect('equal', adjustable='box') "
   ]
  },
  {
   "cell_type": "code",
   "execution_count": 50,
   "id": "de33b40f",
   "metadata": {},
   "outputs": [
    {
     "data": {
      "text/html": [
       "<div>\n",
       "<style scoped>\n",
       "    .dataframe tbody tr th:only-of-type {\n",
       "        vertical-align: middle;\n",
       "    }\n",
       "\n",
       "    .dataframe tbody tr th {\n",
       "        vertical-align: top;\n",
       "    }\n",
       "\n",
       "    .dataframe thead th {\n",
       "        text-align: right;\n",
       "    }\n",
       "</style>\n",
       "<table border=\"1\" class=\"dataframe\">\n",
       "  <thead>\n",
       "    <tr style=\"text-align: right;\">\n",
       "      <th></th>\n",
       "      <th>Goal</th>\n",
       "      <th>X</th>\n",
       "      <th>Y</th>\n",
       "      <th>C</th>\n",
       "      <th>Distance</th>\n",
       "      <th>Angle</th>\n",
       "    </tr>\n",
       "  </thead>\n",
       "  <tbody>\n",
       "    <tr>\n",
       "      <th>104</th>\n",
       "      <td>0</td>\n",
       "      <td>17</td>\n",
       "      <td>66</td>\n",
       "      <td>16.0</td>\n",
       "      <td>20.658715</td>\n",
       "      <td>0.306140</td>\n",
       "    </tr>\n",
       "    <tr>\n",
       "      <th>216</th>\n",
       "      <td>0</td>\n",
       "      <td>9</td>\n",
       "      <td>66</td>\n",
       "      <td>16.0</td>\n",
       "      <td>14.052135</td>\n",
       "      <td>0.359480</td>\n",
       "    </tr>\n",
       "    <tr>\n",
       "      <th>220</th>\n",
       "      <td>0</td>\n",
       "      <td>12</td>\n",
       "      <td>49</td>\n",
       "      <td>1.0</td>\n",
       "      <td>12.616755</td>\n",
       "      <td>0.564081</td>\n",
       "    </tr>\n",
       "    <tr>\n",
       "      <th>313</th>\n",
       "      <td>0</td>\n",
       "      <td>26</td>\n",
       "      <td>42</td>\n",
       "      <td>8.0</td>\n",
       "      <td>27.790826</td>\n",
       "      <td>0.257467</td>\n",
       "    </tr>\n",
       "    <tr>\n",
       "      <th>379</th>\n",
       "      <td>0</td>\n",
       "      <td>6</td>\n",
       "      <td>66</td>\n",
       "      <td>16.0</td>\n",
       "      <td>12.159359</td>\n",
       "      <td>0.330413</td>\n",
       "    </tr>\n",
       "    <tr>\n",
       "      <th>...</th>\n",
       "      <td>...</td>\n",
       "      <td>...</td>\n",
       "      <td>...</td>\n",
       "      <td>...</td>\n",
       "      <td>...</td>\n",
       "      <td>...</td>\n",
       "    </tr>\n",
       "    <tr>\n",
       "      <th>518873</th>\n",
       "      <td>0</td>\n",
       "      <td>11</td>\n",
       "      <td>27</td>\n",
       "      <td>23.0</td>\n",
       "      <td>18.891929</td>\n",
       "      <td>0.241328</td>\n",
       "    </tr>\n",
       "    <tr>\n",
       "      <th>518898</th>\n",
       "      <td>0</td>\n",
       "      <td>14</td>\n",
       "      <td>63</td>\n",
       "      <td>13.0</td>\n",
       "      <td>16.955604</td>\n",
       "      <td>0.374090</td>\n",
       "    </tr>\n",
       "    <tr>\n",
       "      <th>519105</th>\n",
       "      <td>0</td>\n",
       "      <td>30</td>\n",
       "      <td>38</td>\n",
       "      <td>12.0</td>\n",
       "      <td>32.451348</td>\n",
       "      <td>0.218244</td>\n",
       "    </tr>\n",
       "    <tr>\n",
       "      <th>519379</th>\n",
       "      <td>1</td>\n",
       "      <td>9</td>\n",
       "      <td>30</td>\n",
       "      <td>20.0</td>\n",
       "      <td>16.071792</td>\n",
       "      <td>0.275279</td>\n",
       "    </tr>\n",
       "    <tr>\n",
       "      <th>519397</th>\n",
       "      <td>0</td>\n",
       "      <td>17</td>\n",
       "      <td>46</td>\n",
       "      <td>4.0</td>\n",
       "      <td>18.038362</td>\n",
       "      <td>0.396613</td>\n",
       "    </tr>\n",
       "  </tbody>\n",
       "</table>\n",
       "<p>5762 rows × 6 columns</p>\n",
       "</div>"
      ],
      "text/plain": [
       "       Goal   X   Y     C   Distance     Angle\n",
       "104       0  17  66  16.0  20.658715  0.306140\n",
       "216       0   9  66  16.0  14.052135  0.359480\n",
       "220       0  12  49   1.0  12.616755  0.564081\n",
       "313       0  26  42   8.0  27.790826  0.257467\n",
       "379       0   6  66  16.0  12.159359  0.330413\n",
       "...     ...  ..  ..   ...        ...       ...\n",
       "518873    0  11  27  23.0  18.891929  0.241328\n",
       "518898    0  14  63  13.0  16.955604  0.374090\n",
       "519105    0  30  38  12.0  32.451348  0.218244\n",
       "519379    1   9  30  20.0  16.071792  0.275279\n",
       "519397    0  17  46   4.0  18.038362  0.396613\n",
       "\n",
       "[5762 rows x 6 columns]"
      ]
     },
     "execution_count": 50,
     "metadata": {},
     "output_type": "execute_result"
    }
   ],
   "source": [
    "shots_model"
   ]
  },
  {
   "cell_type": "code",
   "execution_count": 51,
   "id": "69a7b8dd",
   "metadata": {},
   "outputs": [
    {
     "data": {
      "image/png": "[encoded data removed]",
      "text/plain": [
       "<Figure size 432x288 with 1 Axes>"
      ]
     },
     "metadata": {
      "needs_background": "light"
     },
     "output_type": "display_data"
    }
   ],
   "source": [
    "#Plot a logistic curve\n",
    "b=[3, -3]\n",
    "x=np.arange(5,step=0.1)\n",
    "y=1/(1+np.exp(-b[0]-b[1]*x))\n",
    "fig,ax=plt.subplots(num=1)\n",
    "plt.ylim((-0.05,1.05))\n",
    "plt.xlim((0,5))\n",
    "ax.set_ylabel('y')\n",
    "ax.set_xlabel(\"x\") \n",
    "ax.plot(x, y, linestyle='solid', color='black')\n",
    "ax.spines['top'].set_visible(False)\n",
    "ax.spines['right'].set_visible(False)"
   ]
  },
  {
   "cell_type": "code",
   "execution_count": 52,
   "id": "4d1bf3d6",
   "metadata": {},
   "outputs": [
    {
     "data": {
      "text/plain": [
       "[Text(0, 0, 'No'), Text(0, 1, 'Yes')]"
      ]
     },
     "execution_count": 52,
     "metadata": {},
     "output_type": "execute_result"
    },
    {
     "data": {
      "image/png": "[encoded data removed]",
      "text/plain": [
       "<Figure size 432x288 with 1 Axes>"
      ]
     },
     "metadata": {
      "needs_background": "light"
     },
     "output_type": "display_data"
    }
   ],
   "source": [
    "#Get first 200 shots\n",
    "shots_200=shots_model.iloc[:200]\n",
    "\n",
    "#Plot first 200 shots goal angle\n",
    "fig,ax=plt.subplots(num=1)\n",
    "ax.plot(shots_200['Angle']*180/np.pi, shots_200['Goal'], linestyle='none', marker= '.', markerSize= 12, color='black')\n",
    "ax.set_ylabel('Goal scored')\n",
    "ax.set_xlabel(\"Shot angle (degrees)\")\n",
    "plt.ylim((-0.05,1.05))\n",
    "ax.set_yticks([0,1])\n",
    "ax.set_yticklabels(['No','Yes'])"
   ]
  },
  {
   "cell_type": "code",
   "execution_count": 53,
   "id": "12a1a55b",
   "metadata": {},
   "outputs": [
    {
     "name": "stderr",
     "output_type": "stream",
     "text": [
      "<ipython-input-53-a482550a2713>:4: RuntimeWarning: invalid value encountered in true_divide\n",
      "  prob_goal=np.divide(goalcount_dist[0],shotcount_dist[0])\n"
     ]
    },
    {
     "data": {
      "image/png": "[encoded data removed]",
      "text/plain": [
       "<Figure size 432x288 with 1 Axes>"
      ]
     },
     "metadata": {
      "needs_background": "light"
     },
     "output_type": "display_data"
    }
   ],
   "source": [
    "#Show empirically how goal angle predicts probability of scoring\n",
    "shotcount_dist=np.histogram(shots_model['Angle']*180/np.pi,bins=40,range=[0, 150])\n",
    "goalcount_dist=np.histogram(goals_only['Angle']*180/np.pi,bins=40,range=[0, 150])\n",
    "prob_goal=np.divide(goalcount_dist[0],shotcount_dist[0])\n",
    "angle=shotcount_dist[1]\n",
    "midangle= (angle[:-1] + angle[1:])/2\n",
    "fig,ax=plt.subplots(num=2)\n",
    "ax.plot(midangle, prob_goal, linestyle='none', marker= '.', markerSize= 12, color='black')\n",
    "ax.set_ylabel('Probability chance scored')\n",
    "ax.set_xlabel(\"Shot angle (degrees)\")\n",
    "ax.spines['top'].set_visible(False)\n",
    "ax.spines['right'].set_visible(False)"
   ]
  },
  {
   "cell_type": "code",
   "execution_count": 54,
   "id": "01afb6f6",
   "metadata": {},
   "outputs": [
    {
     "data": {
      "text/plain": [
       "[<matplotlib.lines.Line2D at 0x1e1e1938490>]"
      ]
     },
     "execution_count": 54,
     "metadata": {},
     "output_type": "execute_result"
    }
   ],
   "source": [
    "#Now try sigmoid model\n",
    "b=[3, -3]\n",
    "x=np.arange(150,step=0.1)\n",
    "y=1/(1+np.exp(b[0]+b[1]*x*np.pi/180)) \n",
    "ax.plot(x, y, linestyle='solid', color='black')"
   ]
  },
  {
   "cell_type": "code",
   "execution_count": 55,
   "id": "84f4d8eb",
   "metadata": {},
   "outputs": [
    {
     "data": {
      "image/png": "[encoded data removed]",
      "text/plain": [
       "<Figure size 432x288 with 1 Axes>"
      ]
     },
     "metadata": {
      "needs_background": "light"
     },
     "output_type": "display_data"
    }
   ],
   "source": [
    "#Now lets look at the likelihood of model given data\n",
    "xG=1/(1+np.exp(b[0]+b[1]*shots_model['Angle'])) \n",
    "shots_model = shots_model.assign(xG=xG)\n",
    "shots_40=shots_model.iloc[:40]\n",
    "fig,ax=plt.subplots(num=1)\n",
    "ax.plot(shots_40['Angle']*180/np.pi, shots_40['Goal'], linestyle='none', marker= '.', markerSize= 12, color='black')\n",
    "ax.plot(x, y, linestyle='solid', color='black')\n",
    "ax.plot(x, 1-y, linestyle='solid', color='black')\n",
    "loglikelihood=0\n",
    "for item,shot in shots_40.iterrows():\n",
    "    ang=shot['Angle']*180/np.pi\n",
    "    if shot['Goal']==1:\n",
    "        loglikelihood=loglikelihood+np.log(shot['xG'])\n",
    "        ax.plot([ang,ang],[shot['Goal'],shot['xG']], color='red')\n",
    "    else:\n",
    "        loglikelihood=loglikelihood+np.log(1 - shot['xG'])\n",
    "        ax.plot([ang,ang],[shot['Goal'],1-shot['xG']], color='blue')\n",
    "    \n",
    "ax.set_ylabel('Goal scored')\n",
    "ax.set_xlabel(\"Shot angle (degrees)\")\n",
    "plt.ylim((-0.05,1.05))\n",
    "plt.xlim((0,80))\n",
    "plt.text(45,0.2,'Log-likelihood:') \n",
    "plt.text(45,0.1,str(loglikelihood))\n",
    "ax.set_yticks([0,1])\n",
    "ax.spines['top'].set_visible(False)\n",
    "ax.spines['right'].set_visible(False)   "
   ]
  },
  {
   "cell_type": "code",
   "execution_count": 56,
   "id": "f9fb43ac",
   "metadata": {},
   "outputs": [
    {
     "name": "stdout",
     "output_type": "stream",
     "text": [
      "                   Generalized Linear Model Regression Results                    \n",
      "==================================================================================\n",
      "Dep. Variable:     ['Goal[0]', 'Goal[1]']   No. Observations:                 5762\n",
      "Model:                                GLM   Df Residuals:                     5760\n",
      "Model Family:                    Binomial   Df Model:                            1\n",
      "Link Function:                      logit   Scale:                          1.0000\n",
      "Method:                              IRLS   Log-Likelihood:                -1641.3\n",
      "Date:                    Mon, 14 Jun 2021   Deviance:                       3282.5\n",
      "Time:                            11:16:45   Pearson chi2:                 5.71e+03\n",
      "No. Iterations:                         6                                         \n",
      "Covariance Type:                nonrobust                                         \n",
      "==============================================================================\n",
      "                 coef    std err          z      P>|z|      [0.025      0.975]\n",
      "------------------------------------------------------------------------------\n",
      "Intercept      3.8582      0.099     38.885      0.000       3.664       4.053\n",
      "Angle         -3.8232      0.182    -21.041      0.000      -4.179      -3.467\n",
      "==============================================================================\n"
     ]
    },
    {
     "data": {
      "image/png": "[encoded data removed]",
      "text/plain": [
       "<Figure size 432x288 with 1 Axes>"
      ]
     },
     "metadata": {
      "needs_background": "light"
     },
     "output_type": "display_data"
    }
   ],
   "source": [
    "#Make single variable model of angle\n",
    "#Using logistic regression we find the optimal values of b\n",
    "#This process minimizes the loglikelihood\n",
    "test_model = smf.glm(formula=\"Goal ~ Angle\" , data=shots_model, \n",
    "                           family=sm.families.Binomial()).fit()\n",
    "print(test_model.summary())        \n",
    "b=test_model.params\n",
    "\n",
    "\n",
    "xGprob=1/(1+np.exp(b[0]+b[1]*midangle*np.pi/180)) \n",
    "fig,ax=plt.subplots(num=1)\n",
    "ax.plot(midangle, prob_goal, linestyle='none', marker= '.', markerSize= 12, color='black')\n",
    "ax.plot(midangle, xGprob, linestyle='solid', color='black')\n",
    "ax.set_ylabel('Probability chance scored')\n",
    "ax.set_xlabel(\"Shot angle (degrees)\")\n",
    "ax.spines['top'].set_visible(False)\n",
    "ax.spines['right'].set_visible(False)"
   ]
  },
  {
   "cell_type": "code",
   "execution_count": 57,
   "id": "5efc41ee",
   "metadata": {},
   "outputs": [
    {
     "name": "stdout",
     "output_type": "stream",
     "text": [
      "                   Generalized Linear Model Regression Results                    \n",
      "==================================================================================\n",
      "Dep. Variable:     ['Goal[0]', 'Goal[1]']   No. Observations:                 5762\n",
      "Model:                                GLM   Df Residuals:                     5760\n",
      "Model Family:                    Binomial   Df Model:                            1\n",
      "Link Function:                      logit   Scale:                          1.0000\n",
      "Method:                              IRLS   Log-Likelihood:                -1634.1\n",
      "Date:                    Mon, 14 Jun 2021   Deviance:                       3268.1\n",
      "Time:                            11:16:46   Pearson chi2:                 2.18e+07\n",
      "No. Iterations:                         7                                         \n",
      "Covariance Type:                nonrobust                                         \n",
      "==============================================================================\n",
      "                 coef    std err          z      P>|z|      [0.025      0.975]\n",
      "------------------------------------------------------------------------------\n",
      "Intercept     -0.6267      0.122     -5.117      0.000      -0.867      -0.387\n",
      "Distance       0.1721      0.008     20.706      0.000       0.156       0.188\n",
      "==============================================================================\n"
     ]
    },
    {
     "name": "stderr",
     "output_type": "stream",
     "text": [
      "<ipython-input-57-2965b900b81b>:5: RuntimeWarning: invalid value encountered in true_divide\n",
      "  prob_goal=np.divide(goalcount_dist[0],shotcount_dist[0])\n"
     ]
    },
    {
     "data": {
      "text/plain": [
       "[<matplotlib.lines.Line2D at 0x1e1e1a499a0>]"
      ]
     },
     "execution_count": 57,
     "metadata": {},
     "output_type": "execute_result"
    },
    {
     "data": {
      "image/png": "[encoded data removed]",
      "text/plain": [
       "<Figure size 432x288 with 1 Axes>"
      ]
     },
     "metadata": {
      "needs_background": "light"
     },
     "output_type": "display_data"
    }
   ],
   "source": [
    "#Now lets look at distance from goal\n",
    "#Show empirically how distance from goal predicts probability of scoring\n",
    "shotcount_dist=np.histogram(shots_model['Distance'],bins=40,range=[0, 70])\n",
    "goalcount_dist=np.histogram(goals_only['Distance'],bins=40,range=[0, 70])\n",
    "prob_goal=np.divide(goalcount_dist[0],shotcount_dist[0])\n",
    "distance=shotcount_dist[1]\n",
    "middistance= (distance[:-1] + distance[1:])/2\n",
    "fig,ax=plt.subplots(num=1)\n",
    "ax.plot(middistance, prob_goal, linestyle='none', marker= '.', color='black')\n",
    "ax.set_ylabel('Probability chance scored')\n",
    "ax.set_xlabel(\"Distance from goal (metres)\")\n",
    "ax.spines['top'].set_visible(False)\n",
    "ax.spines['right'].set_visible(False)\n",
    "\n",
    "\n",
    "#Make single variable model of distance\n",
    "test_model = smf.glm(formula=\"Goal ~ Distance\" , data=shots_model, \n",
    "                           family=sm.families.Binomial()).fit()\n",
    "print(test_model.summary())        \n",
    "b=test_model.params\n",
    "xGprob=1/(1+np.exp(b[0]+b[1]*middistance)) \n",
    "ax.plot(middistance, xGprob, linestyle='solid', color='black')   "
   ]
  },
  {
   "cell_type": "code",
   "execution_count": 58,
   "id": "95c730ed",
   "metadata": {},
   "outputs": [
    {
     "name": "stdout",
     "output_type": "stream",
     "text": [
      "                   Generalized Linear Model Regression Results                    \n",
      "==================================================================================\n",
      "Dep. Variable:     ['Goal[0]', 'Goal[1]']   No. Observations:                 5762\n",
      "Model:                                GLM   Df Residuals:                     5759\n",
      "Model Family:                    Binomial   Df Model:                            2\n",
      "Link Function:                      logit   Scale:                          1.0000\n",
      "Method:                              IRLS   Log-Likelihood:                -1601.9\n",
      "Date:                    Mon, 14 Jun 2021   Deviance:                       3203.7\n",
      "Time:                            11:16:46   Pearson chi2:                 6.99e+03\n",
      "No. Iterations:                         6                                         \n",
      "Covariance Type:                nonrobust                                         \n",
      "==============================================================================\n",
      "                 coef    std err          z      P>|z|      [0.025      0.975]\n",
      "------------------------------------------------------------------------------\n",
      "Intercept     -1.2585      0.141     -8.941      0.000      -1.534      -0.983\n",
      "Distance       0.2556      0.012     21.727      0.000       0.233       0.279\n",
      "D2            -0.0023      0.000    -15.146      0.000      -0.003      -0.002\n",
      "==============================================================================\n"
     ]
    },
    {
     "data": {
      "text/plain": [
       "[<matplotlib.lines.Line2D at 0x1e1e1a89550>]"
      ]
     },
     "execution_count": 58,
     "metadata": {},
     "output_type": "execute_result"
    },
    {
     "data": {
      "image/png": "[encoded data removed]",
      "text/plain": [
       "<Figure size 432x288 with 1 Axes>"
      ]
     },
     "metadata": {
      "needs_background": "light"
     },
     "output_type": "display_data"
    }
   ],
   "source": [
    "#Adding distance squared\n",
    "squaredD = shots_model['Distance']**2\n",
    "shots_model = shots_model.assign(D2=squaredD)\n",
    "test_model = smf.glm(formula=\"Goal ~ Distance + D2\" , data=shots_model, \n",
    "                           family=sm.families.Binomial()).fit()\n",
    "print(test_model.summary())        \n",
    "b=test_model.params\n",
    "xGprob=1/(1+np.exp(b[0]+b[1]*middistance+b[2]*pow(middistance,2))) \n",
    "fig,ax=plt.subplots(num=1)\n",
    "ax.plot(middistance, prob_goal, linestyle='none', marker= '.', color='black')\n",
    "ax.set_ylabel('Probability chance scored')\n",
    "ax.set_xlabel(\"Distance from goal (metres)\")\n",
    "ax.spines['top'].set_visible(False)\n",
    "ax.spines['right'].set_visible(False)\n",
    "ax.plot(middistance, xGprob, linestyle='solid', color='black')"
   ]
  }
 ],
 "metadata": {
  "kernelspec": {
   "display_name": "Python 3",
   "language": "python",
   "name": "python3"
  },
  "language_info": {
   "codemirror_mode": {
    "name": "ipython",
    "version": 3
   },
   "file_extension": ".py",
   "mimetype": "text/x-python",
   "name": "python",
   "nbconvert_exporter": "python",
   "pygments_lexer": "ipython3",
   "version": "3.9.5"
  }
 },
 "nbformat": 4,
 "nbformat_minor": 5
}
